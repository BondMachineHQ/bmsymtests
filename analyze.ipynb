{
 "cells": [
  {
   "cell_type": "code",
   "execution_count": null,
   "metadata": {},
   "outputs": [],
   "source": [
    "import math\n",
    "import json\n",
    "import os\n",
    "import random\n",
    "from IPython import display\n",
    "import sympy as sp\n",
    "import numpy as np\n",
    "import pandas as pd\n",
    "import sklearn\n",
    "\n",
    "pd.set_option('display.max_rows', None)\n",
    "\n",
    "\n",
    "%run config.py"
   ]
  },
  {
   "cell_type": "markdown",
   "metadata": {},
   "source": [
    "Utility functions"
   ]
  },
  {
   "cell_type": "code",
   "execution_count": null,
   "metadata": {},
   "outputs": [],
   "source": [
    "# Colors for terminal output\n",
    "GREEN = \"\\033[92m\"\n",
    "RED = \"\\033[91m\"\n",
    "YELLOW = \"\\033[93m\"\n",
    "BLUE = \"\\033[94m\"\n",
    "CYAN = \"\\033[96m\"\n",
    "MAGENTA = \"\\033[95m\"\n",
    "BOLD = \"\\033[1m\"\n",
    "UNDERLINE = \"\\033[4m\"\n",
    "STANDARD = \"\\033[0m\""
   ]
  },
  {
   "cell_type": "code",
   "execution_count": null,
   "metadata": {},
   "outputs": [],
   "source": [
    "# Sequencer and Desequencer\n",
    "def csv2sequence(csvFile,seqFile,pref):\n",
    "\twith open(csvFile, 'r') as f:\n",
    "\t\tlines = f.readlines()\n",
    "\t\twith open(seqFile, 'w') as g:\n",
    "\t\t\tfor line in lines:\n",
    "\t\t\t\tfor token in line.split(','):\n",
    "\t\t\t\t\tif token.startswith(pref):\n",
    "\t\t\t\t\t\ttoken = token[len(pref):]\n",
    "\t\t\t\t\ttoken = token.strip()\n",
    "\t\t\t\t\tif token!=\"\" and token!='\\n':\n",
    "\t\t\t\t\t\tg.write(token+'\\n')\n",
    "\n",
    "def sequence2csv(seqFile,csvFile,dataWidth,pref):\n",
    "\twith open(seqFile, 'r') as f:\n",
    "\t\tlines = f.readlines()\n",
    "\t\tdataW = dataWidth\n",
    "\t\twith open(csvFile, 'w') as g:\n",
    "\t\t\tfor line in lines:\n",
    "\t\t\t\tg.write(pref+line.strip())\n",
    "\t\t\t\tdataW -= 1\n",
    "\t\t\t\tif dataW==0:\n",
    "\t\t\t\t\tg.write('\\n')\n",
    "\t\t\t\t\tdataW = dataWidth\n",
    "\t\t\t\telse:\n",
    "\t\t\t\t\tg.write(',')"
   ]
  },
  {
   "cell_type": "code",
   "execution_count": null,
   "metadata": {},
   "outputs": [],
   "source": [
    "# Function to show the generated function\n",
    "def showFunction():\n",
    "\texec(open(\"generated.py\").read())\n",
    "\timport IPython.display as disp\n",
    "\tdisp.display(spExpr)\n",
    "# showFunction()"
   ]
  },
  {
   "cell_type": "code",
   "execution_count": null,
   "metadata": {},
   "outputs": [],
   "source": [
    "# Function to show the generated BM\n",
    "def showBM():\n",
    "\tdisplay.Image(\"bondmachine.png\")"
   ]
  },
  {
   "cell_type": "code",
   "execution_count": null,
   "metadata": {},
   "outputs": [],
   "source": [
    "def highlightDone(val):\n",
    "    color = 'green' if val > 0.0 else 'red'\n",
    "    return f'background-color: {color}'"
   ]
  },
  {
   "cell_type": "markdown",
   "metadata": {},
   "source": [
    "environment creation functions"
   ]
  },
  {
   "cell_type": "code",
   "execution_count": null,
   "metadata": {},
   "outputs": [],
   "source": [
    "# Function create an environment with a random mathematical expression\n",
    "def generateRandom():\n",
    "\t! echo \"SOURCE_FLEXPY=generated.py\" > source.mk\n",
    "\t! make clean > /dev/null\n",
    "\t! echo \"SOURCE_FLEXPY=generated.py\" > source.mk\n",
    "\t! flexpytester --generate -e symbols -s generated.py -i inputs.csv -o outputs.csv --prefix --config decayFactor=3 > /dev/null\n",
    "\t! bmhelper apply > /dev/null \n",
    "\t! make show > /dev/null\n",
    "\tcsv2sequence('inputs.csv','inputs.seq',\"0f\")\n",
    "\tcsv2sequence('outputs.csv','outputs.seq',\"0f\")\n",
    "# generateRandom()"
   ]
  },
  {
   "cell_type": "code",
   "execution_count": null,
   "metadata": {},
   "outputs": [],
   "source": [
    "# Function to generate the test cases of an existing mathematical expression\n",
    "def generateExistent():\n",
    "\t! echo \"SOURCE_FLEXPY=generated.py\" > source.mk\n",
    "\t! make clean > /dev/null\n",
    "\t! echo \"SOURCE_FLEXPY=generated.py\" > source.mk\n",
    "\t! flexpytester --compute -e generated.py -i inputs.csv -o outputs.csv --prefix > /dev/null\n",
    "\t! bmhelper apply > /dev/null \n",
    "\t! make show > /dev/null\n",
    "\tcsv2sequence('inputs.csv','inputs.seq',\"0f\")\n",
    "\tcsv2sequence('outputs.csv','outputs.seq',\"0f\")\n",
    "# generateExistent()"
   ]
  },
  {
   "cell_type": "code",
   "execution_count": null,
   "metadata": {},
   "outputs": [],
   "source": [
    "# Function to generate the test cases of an existing single neuron within the library\n",
    "def generateNeuron(library, neuron, seq):\n",
    "\t! echo \"SOURCE_BASM=out.basm\" > source.mk\n",
    "\t! make clean > /dev/null\n",
    "\t! echo \"SOURCE_BASM=out.basm\" > source.mk\n",
    "\t! rm -f notok\n",
    "\t! fragtester -neuron-lib-path {library} -fragment-file {neuron}.basm -save-expression generated.py -seq {seq} -create-bmapi bmapi.json -build-app -app-flavor cpynqapi -app-file expression.c || touch notok > /dev/null\n",
    "\tif os.path.exists(\"notok\"):\n",
    "\t\treturn False\n",
    "\t! flexpytester --compute -e generated.py -i inputs.csv -o outputs.csv --prefix > /dev/null\n",
    "\t! bmhelper apply > /dev/null\n",
    "\t! make show > /dev/null\n",
    "\tcsv2sequence('inputs.csv','inputs.seq',\"0f\")\n",
    "\tcsv2sequence('outputs.csv','outputs.seq',\"0f\")\n",
    "\treturn True\n",
    "# generateNeuron(\"library\", \"cosargreal\", \"0\")"
   ]
  },
  {
   "cell_type": "code",
   "execution_count": null,
   "metadata": {},
   "outputs": [],
   "source": [
    "# Function to generate the test cases of an existing single neuron within the library\n",
    "def getNeuronSeq(library, neuron):\n",
    "\t! rm -f notok\n",
    "\t! fragtester -neuron-lib-path {library} -fragment-file {neuron}.basm -save-expression generated.py  || touch notok > /dev/null\n",
    "\tif os.path.exists(\"notok\"):\n",
    "\t\treturn \"0\"\n",
    "\t! fragtester -neuron-lib-path {library} -fragment-file {neuron}.basm -save-expression generated.py -describe | grep \"Sequences\" | cut -d' ' -f2 > seqs.txt\n",
    "\tseq=1\n",
    "\twith open(\"seqs.txt\", \"r\") as f:\n",
    "\t\tlines = f.readlines()\n",
    "\t\tfor line in lines:\n",
    "\t\t\tseq=line.strip()\n",
    "\t\t\treturn seq"
   ]
  },
  {
   "cell_type": "code",
   "execution_count": null,
   "metadata": {},
   "outputs": [],
   "source": [
    "# Function to generate the test cases of an existing single neuron within the library\n",
    "def placeHolderNeuron(library, neuron):\n",
    "\t! echo \"{\" > statistics.json\n",
    "\t! echo -n \"\\\"\" >> statistics.json\n",
    "\t! echo -n {neuron} >> statistics.json\n",
    "\t! echo \"\\\": 0\" >> statistics.json\n",
    "\t! echo \"}\" >> statistics.json"
   ]
  },
  {
   "cell_type": "markdown",
   "metadata": {},
   "source": [
    " Simulation beckends"
   ]
  },
  {
   "cell_type": "code",
   "execution_count": null,
   "metadata": {},
   "outputs": [],
   "source": [
    "# BondMachine internal simulator\n",
    "def runSimbatch():\n",
    "\t! make simbatch > /dev/null\n",
    "# runSimbatch()"
   ]
  },
  {
   "cell_type": "code",
   "execution_count": null,
   "metadata": {},
   "outputs": [],
   "source": [
    "# BondMachine hardware run\n",
    "def runBMsim():\n",
    "\t! make deploycollect > /dev/null\n",
    "\t! mv working_dir/bmsim_outputs.seq bmsim_outputs.seq\n",
    "\t! bondmachine -bondmachine-file working_dir/bondmachine.json -list-outputs | wc -l > num_outputs.txt\n",
    "\t# Read the number of outputs\n",
    "\twith open('num_outputs.txt','r') as f:\n",
    "\t\tnum_outputs = int(f.read())\n",
    "\tsequence2csv('bmsim_outputs.seq','bmsim_outputs.csv',num_outputs,\"\")\n",
    "# runBMsim()"
   ]
  },
  {
   "cell_type": "code",
   "execution_count": null,
   "metadata": {},
   "outputs": [],
   "source": [
    "# HLS simulator\n",
    "def runHLSsim():\n",
    "\tprint (\"hlsim\")\n",
    "# runHLSsim()"
   ]
  },
  {
   "cell_type": "markdown",
   "metadata": {},
   "source": [
    "Analysis"
   ]
  },
  {
   "cell_type": "code",
   "execution_count": null,
   "metadata": {},
   "outputs": [],
   "source": [
    "def analyzeSimbatch():\n",
    "\t# Load the target outputs from the output.csv file\n",
    "\ttargetData = np.loadtxt('outputs.csv', delimiter=',')\n",
    "\tsimbatchData = np.loadtxt('simbatch_outputs.csv', delimiter=',')\n",
    "\tsimbatchMSE=sklearn.metrics.mean_squared_error(targetData, simbatchData)\n",
    "\n",
    "\tdata = {\n",
    "\t\t\"Dataset\": [\"Sympy target\", \"Simbatch\"],\n",
    "\t\t\"MSE\" : [0.0, simbatchMSE]\n",
    "\t}\n",
    "\tdf = pd.DataFrame(data)\n",
    "\treturn df.style.hide(axis=\"index\"), simbatchMSE\n",
    "\n",
    "\t"
   ]
  },
  {
   "cell_type": "code",
   "execution_count": null,
   "metadata": {},
   "outputs": [],
   "source": [
    "def analyzeBMsim():\n",
    "\t# Load the target outputs from the output.csv file\n",
    "\ttargetData = np.loadtxt('outputs.csv', delimiter=',')\n",
    "\tbmsimData = np.loadtxt('bmsim_outputs.csv', delimiter=',')\n",
    "\tbmsimMSE=sklearn.metrics.mean_squared_error(targetData, bmsimData)\n",
    "\n",
    "\tdata = {\n",
    "\t\t\"Dataset\": [\"Sympy target\", \"BMsim\"],\n",
    "\t\t\"MSE\" : [0.0, bmsimMSE]\n",
    "\t}\n",
    "\tdf = pd.DataFrame(data)\n",
    "\treturn df.style.hide(axis=\"index\"), bmsimMSE"
   ]
  },
  {
   "cell_type": "markdown",
   "metadata": {},
   "source": [
    "Statistics management functions"
   ]
  },
  {
   "cell_type": "code",
   "execution_count": null,
   "metadata": {},
   "outputs": [],
   "source": [
    "def plotHistogram(df):\n",
    "\t# Plot the histogram\n",
    "\tdf['bsimoccurrences'].plot(kind='bar', figsize=(10, 6), color='skyblue')\n"
   ]
  },
  {
   "cell_type": "code",
   "execution_count": null,
   "metadata": {},
   "outputs": [],
   "source": [
    "def loadBsimRun(mse):\n",
    "\twith open('statistics.json', 'r') as f:\n",
    "\t\tdata = json.load(f)\n",
    "\t\n",
    "\tdf = pd.DataFrame.from_dict(data, orient='index', columns=['bsimoccurrences'])\n",
    "\ttotOccurrences = df['bsimoccurrences'].sum()\n",
    "\tnewCol=mse\n",
    "\tif totOccurrences > 0:\n",
    "\t\tnewCol = newCol/totOccurrences\n",
    "\t\tdf['bsimerror'] = newCol\n",
    "\telse:\n",
    "\t\tdf['bsimerror'] = 0.0\n",
    "\treturn df"
   ]
  },
  {
   "cell_type": "code",
   "execution_count": null,
   "metadata": {},
   "outputs": [],
   "source": [
    "def loadBMsimRun(mse):\n",
    "\twith open('statistics.json', 'r') as f:\n",
    "\t\tdata = json.load(f)\n",
    "\t\n",
    "\tdf = pd.DataFrame.from_dict(data, orient='index', columns=['bmoccurrences'])\n",
    "\ttotOccurrences = df['bmoccurrences'].sum()\n",
    "\tnewCol=mse\n",
    "\tif totOccurrences > 0:\n",
    "\t\tnewCol = newCol/totOccurrences\n",
    "\t\tdf['bmerror'] = newCol\n",
    "\telse:\n",
    "\t\tdf['bmerror'] = 0.0\n",
    "\treturn df"
   ]
  },
  {
   "cell_type": "code",
   "execution_count": null,
   "metadata": {},
   "outputs": [],
   "source": [
    "def PatchBsimGlobalStats(global_stats, df):\n",
    "\t# If the global statistics DataFrame is empty, initialize it with the same rows as the current DataFrame\n",
    "\tfor index, row in df.iterrows():\n",
    "\t\tif index not in global_stats.index:\n",
    "\t\t\tglobal_stats.loc[index] = [0.0, 0.0, 0.0, 0.0]\n",
    "\n",
    "\t# Sum the occurrences to the global statistics\n",
    "\tfor index, row in df.iterrows():\n",
    "\t\tglobal_stats.at[index, 'bsimoccurrences'] += row['bsimoccurrences']\n",
    "\t\tglobal_stats.at[index, 'bsimerror'] += row['bsimerror']\n",
    "\t# Save the updated global statistics\n",
    "\tglobal_stats.to_csv('global_statistics')\n",
    "\treturn global_stats\n"
   ]
  },
  {
   "cell_type": "code",
   "execution_count": null,
   "metadata": {},
   "outputs": [],
   "source": [
    "def PatchBMsimGlobalStats(global_stats, df):\n",
    "\t# If the global statistics DataFrame is empty, initialize it with the same rows as the current DataFrame\n",
    "\tfor index, row in df.iterrows():\n",
    "\t\tif index not in global_stats.index:\n",
    "\t\t\tglobal_stats.loc[index] = [0.0, 0.0, 0.0, 0.0]\n",
    "\n",
    "\t# Sum the occurrences to the global statistics\n",
    "\tfor index, row in df.iterrows():\n",
    "\t\tglobal_stats.at[index, 'bmoccurrences'] += row['bmoccurrences']\n",
    "\t\tglobal_stats.at[index, 'bmerror'] += row['bmerror']\n",
    "\t# Save the updated global statistics\n",
    "\tglobal_stats.to_csv('global_statistics')\n",
    "\treturn global_stats\n"
   ]
  },
  {
   "cell_type": "code",
   "execution_count": null,
   "metadata": {},
   "outputs": [],
   "source": [
    "def loadGlobalStats():\n",
    "\t# Load the global statistics from the CSV file if it exists\n",
    "\tif os.path.exists('global_statistics'):\n",
    "\t\tglobal_stats = pd.read_csv('global_statistics', index_col=0)\n",
    "\t\tglobal_stats.sort_index(inplace=True)\n",
    "\telse:\n",
    "\t\t# Create an empty DataFrame with the same columns as the global statistics\n",
    "\t\tglobal_stats = pd.DataFrame(columns=['bsimoccurrences', 'bsimerror', 'bmoccurrences', 'bmerror'])\n",
    "\treturn global_stats"
   ]
  },
  {
   "cell_type": "markdown",
   "metadata": {},
   "source": [
    "Interactive sessions"
   ]
  },
  {
   "cell_type": "code",
   "execution_count": null,
   "metadata": {},
   "outputs": [],
   "source": [
    "# From here, it is possible to override the config.py settings and run specific parts\n",
    "\n",
    "# singleRun=True\n",
    "# singleRunPatch=True\n",
    "fullRun=True\n",
    "runSimbatchTests=True\n",
    "# runBmsimTests=True\n",
    "\n",
    "neuronUnderTest = \"multargimagnumreal\"\n",
    "neuronSeq = \"0\""
   ]
  },
  {
   "cell_type": "code",
   "execution_count": null,
   "metadata": {},
   "outputs": [],
   "source": [
    "# Single run test, it executes the entire process and return a DataFrame (df) with the errors\n",
    "if singleRun:\t\n",
    "\t# generateRandom()\n",
    "\t# generateExistent()\n",
    "\tgenerateNeuron(\"library\", neuronUnderTest, neuronSeq)\n",
    "\n",
    "\tif runSimbatchTests:\n",
    "\t\trunSimbatch()\n",
    "\t\terrors,mse=analyzeSimbatch()\n",
    "\t\tdfbsim=loadBsimRun(mse)\n",
    "\n",
    "\tif runBmsimTests:\n",
    "\t\trunBMsim()\n",
    "\t\terrors,mse=analyzeBMsim()\n",
    "\t\tdfbm=loadBMsimRun(mse)\n",
    "\t\n",
    "\t# runHLSsim()"
   ]
  },
  {
   "cell_type": "code",
   "execution_count": null,
   "metadata": {},
   "outputs": [],
   "source": [
    "dfbsim if (singleRun and runSimbatchTests) else None"
   ]
  },
  {
   "cell_type": "code",
   "execution_count": null,
   "metadata": {},
   "outputs": [],
   "source": [
    "dfbm if (singleRun and runBmsimTests) else None"
   ]
  },
  {
   "cell_type": "code",
   "execution_count": null,
   "metadata": {},
   "outputs": [],
   "source": [
    "display.Image(\"bondmachine.png\") if singleRun else None"
   ]
  },
  {
   "cell_type": "code",
   "execution_count": null,
   "metadata": {},
   "outputs": [],
   "source": [
    "# Load the historical global statistics and patch it with the new data (df) with the simbatch results\n",
    "if singleRunPatch and runBatchsimTests:\n",
    "\tgs=loadGlobalStats()\n",
    "\tgs=PatchBsimGlobalStats(gs, dfbsim)\n",
    "\tgs"
   ]
  },
  {
   "cell_type": "code",
   "execution_count": null,
   "metadata": {},
   "outputs": [],
   "source": [
    "# Load the historical global statistics and patch it with the new data (df) with the bmsim results\n",
    "if singleRunPatch and runBmsimTests:\n",
    "\tgs=loadGlobalStats()\n",
    "\tgs=PatchBMsimGlobalStats(gs, dfbm)\n",
    "\tgs"
   ]
  },
  {
   "cell_type": "code",
   "execution_count": null,
   "metadata": {},
   "outputs": [],
   "source": [
    "gs if singleRunPatch else None"
   ]
  },
  {
   "cell_type": "code",
   "execution_count": null,
   "metadata": {},
   "outputs": [],
   "source": [
    "if fullRun:\n",
    "\t# Iterate al the neurons in the library and test them singly, patching the global statistics\n",
    "\tgs=loadGlobalStats()\n",
    "\n",
    "\tfor neuronFile in os.listdir(\"library\"):\n",
    "\t\tif not neuronFile.endswith(\".basm\"):\n",
    "\t\t\tcontinue\n",
    "\t\tneuron = neuronFile.split(\".\")[0]\n",
    "\t\t# generateRandom()\n",
    "\t\t# generateExistent()\n",
    "\n",
    "\t\t# Simbatch tests\n",
    "\t\tif runSimbatchTests and not(any(gs.index.str.startswith(neuron)) and gs.loc[gs.index.str.startswith(neuron), 'bsimoccurrences'].max() > 0):\n",
    "\t\t\tseq=getNeuronSeq(\"library\", neuron)\n",
    "\t\t\tif seq!=\"0\":\n",
    "\t\t\t\tfor i in range(0, int(seq)):\n",
    "\t\t\t\t\tif generateNeuron(\"library\", neuron, str(i)):\n",
    "\t\t\t\t\t\trunSimbatch()\n",
    "\t\t\t\t\t\terrors,mse=analyzeSimbatch()\n",
    "\t\t\t\t\t\tdf=loadBsimRun(mse)\n",
    "\t\t\t\t\t\tgs=PatchBsimGlobalStats(gs, df)\n",
    "\t\t\t\t\telse:\n",
    "\t\t\t\t\t\tprint(f\"{RED}Error generating neuron {neuron} with sequence {seq}{STANDARD}\")\n",
    "\t\t\telse:\n",
    "\t\t\t\tplaceHolderNeuron(\"library\", neuron)\n",
    "\n",
    "\t\t\t\tdf=loadBsimRun(0.0)\n",
    "\t\t\t\tgs=PatchBsimGlobalStats(gs, df)\n",
    "\n",
    "\t\t# BMsim tests\n",
    "\t\tif runBmsimTests and not(any(gs.index.str.startswith(neuron)) and gs.loc[gs.index.str.startswith(neuron), 'bmoccurrences'].max() > 0):\n",
    "\t\t\tseq=getNeuronSeq(\"library\", neuron)\n",
    "\t\t\tif seq!=\"0\":\n",
    "\t\t\t\tfor i in range(0, int(seq)):\n",
    "\t\t\t\t\tif generateNeuron(\"library\", neuron, str(i)):\n",
    "\t\t\t\t\t\trunBMsim()\n",
    "\t\t\t\t\t\terrors,mse=analyzeBMsim()\n",
    "\t\t\t\t\t\tdf=loadBMsimRun(mse)\n",
    "\t\t\t\t\t\tgs=PatchBMsimGlobalStats(gs, df)\n",
    "\t\t\t\t\telse:\n",
    "\t\t\t\t\t\tprint(f\"{RED}Error generating neuron {neuron} with sequence {seq}{STANDARD}\")\n",
    "\t\t\telse:\n",
    "\t\t\t\tplaceHolderNeuron(\"library\", neuron)\n",
    "\n",
    "\t\t\t\tdf=loadBMsimRun(0.0)\n",
    "\t\t\t\tgs=PatchBMsimGlobalStats(gs, df)\n",
    "\n",
    "\tgs.style.format('{:.10f}', subset=['bsimerror'])\n",
    "\tgs.style.format('{:.10f}', subset=['bmerror'])\n"
   ]
  },
  {
   "cell_type": "code",
   "execution_count": null,
   "metadata": {},
   "outputs": [],
   "source": [
    "gs.style.apply(lambda x: x.map(highlightDone), axis=None, subset=['bsimoccurrences', 'bmoccurrences']) if fullRun else None"
   ]
  }
 ],
 "metadata": {
  "kernelspec": {
   "display_name": "temp",
   "language": "python",
   "name": "python3"
  },
  "language_info": {
   "codemirror_mode": {
    "name": "ipython",
    "version": 3
   },
   "file_extension": ".py",
   "mimetype": "text/x-python",
   "name": "python",
   "nbconvert_exporter": "python",
   "pygments_lexer": "ipython3",
   "version": "3.13.2"
  }
 },
 "nbformat": 4,
 "nbformat_minor": 2
}
