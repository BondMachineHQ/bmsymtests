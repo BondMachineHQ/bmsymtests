{
 "cells": [
  {
   "cell_type": "markdown",
   "metadata": {},
   "source": [
    "Initialization"
   ]
  },
  {
   "cell_type": "code",
   "execution_count": 1,
   "metadata": {},
   "outputs": [],
   "source": [
    "import math\n",
    "import json\n",
    "import os\n",
    "import random\n",
    "from IPython import display\n",
    "import numpy as np\n",
    "import pandas as pd\n",
    "import sklearn\n",
    "\n",
    "\n",
    "GREEN = \"\\033[92m\"\n",
    "RED = \"\\033[91m\"\n",
    "YELLOW = \"\\033[93m\"\n",
    "BLUE = \"\\033[94m\"\n",
    "CYAN = \"\\033[96m\"\n",
    "MAGENTA = \"\\033[95m\"\n",
    "BOLD = \"\\033[1m\"\n",
    "UNDERLINE = \"\\033[4m\"\n",
    "STANDARD = \"\\033[0m\"\n",
    "\n",
    "%run config.py"
   ]
  },
  {
   "cell_type": "code",
   "execution_count": 2,
   "metadata": {},
   "outputs": [],
   "source": [
    "def csv2sequence(csvFile,seqFile,pref):\n",
    "\twith open(csvFile, 'r') as f:\n",
    "\t\tlines = f.readlines()\n",
    "\t\twith open(seqFile, 'w') as g:\n",
    "\t\t\tfor line in lines:\n",
    "\t\t\t\tfor token in line.split(','):\n",
    "\t\t\t\t\tif token.startswith(pref):\n",
    "\t\t\t\t\t\ttoken = token[len(pref):]\n",
    "\t\t\t\t\ttoken = token.strip()\n",
    "\t\t\t\t\tif token!=\"\" and token!='\\n':\n",
    "\t\t\t\t\t\tg.write(token+'\\n')\n",
    "\n",
    "def sequence2csv(seqFile,csvFile,dataWidth,pref):\n",
    "\twith open(seqFile, 'r') as f:\n",
    "\t\tlines = f.readlines()\n",
    "\t\tdataW = dataWidth\n",
    "\t\twith open(csvFile, 'w') as g:\n",
    "\t\t\tfor line in lines:\n",
    "\t\t\t\tg.write(pref+line.strip())\n",
    "\t\t\t\tdataW -= 1\n",
    "\t\t\t\tif dataW==0:\n",
    "\t\t\t\t\tg.write('\\n')\n",
    "\t\t\t\t\tdataW = dataWidth\n",
    "\t\t\t\telse:\n",
    "\t\t\t\t\tg.write(',')"
   ]
  },
  {
   "cell_type": "markdown",
   "metadata": {},
   "source": [
    "Create the expression using flexpytester and create inputs and outputs for the test cases."
   ]
  },
  {
   "cell_type": "code",
   "execution_count": 13,
   "metadata": {},
   "outputs": [],
   "source": [
    "def generate():\n",
    "\t! flexpytester --generate -e symbols -s generated.py -i inputs.csv -o outputs.csv --prefix > /dev/null \n",
    "\t# ! make show > /dev/null\n",
    "\t# csv2sequence('inputs.csv','inputs.seq',\"0f\")\n",
    "\t# csv2sequence('outputs.csv','outputs.seq',\"0f\")\n",
    "\t# sequence2csv('inputs.seq','prova',4,\"0f\")\n",
    "generate()"
   ]
  },
  {
   "cell_type": "markdown",
   "metadata": {},
   "source": [
    "Eventually run the simbatch simulation"
   ]
  },
  {
   "cell_type": "code",
   "execution_count": 14,
   "metadata": {},
   "outputs": [],
   "source": [
    "def simbatch():\n",
    "\t! make clean > /dev/null\n",
    "\t! make simbatch > /dev/null\n",
    "\t#csv2sequence('simbatch_outputs.csv','simbatch_outputs.seq')\n",
    "simbatch()"
   ]
  },
  {
   "cell_type": "markdown",
   "metadata": {},
   "source": [
    "Eventually run the simulation in the FPGA with the BM"
   ]
  },
  {
   "cell_type": "code",
   "execution_count": null,
   "metadata": {},
   "outputs": [],
   "source": [
    "def bmsim():\n",
    "\t! make deploycollect > /dev/null\n",
    "\t! mv working_dir/bmsim_outputs.seq bmsim_outputs.seq\n",
    "\t! bondmachine -bondmachine-file working_dir/bondmachine.json -list-outputs | wc -l > num_outputs.txt\n",
    "\t# Read the number of outputs\n",
    "\twith open('num_outputs.txt','r') as f:\n",
    "\t\tnum_outputs = int(f.read())\n",
    "\tsequence2csv('bmsim_outputs.seq','bmsim_outputs.csv',num_outputs,\"\")"
   ]
  },
  {
   "cell_type": "markdown",
   "metadata": {},
   "source": [
    "Eventually run the simulation in the FPGA with the HLS technology"
   ]
  },
  {
   "cell_type": "code",
   "execution_count": null,
   "metadata": {},
   "outputs": [],
   "source": [
    "def hlsim():\n",
    "\tprint (\"hlsim\")"
   ]
  },
  {
   "cell_type": "markdown",
   "metadata": {},
   "source": [
    "Analyze the results of the chosen cases"
   ]
  },
  {
   "cell_type": "code",
   "execution_count": null,
   "metadata": {},
   "outputs": [],
   "source": [
    "def analyze():\n",
    "\t# Load the target outputs from the output.csv file\n",
    "\ttargetData = np.loadtxt('outputs.csv', delimiter=',')\n",
    "\tsimbatchData = np.loadtxt('simbatch_outputs.csv', delimiter=',')\n",
    "\tbmsimData = np.loadtxt('bmsim_outputs.csv', delimiter=',')\n",
    "\tsimbatchMSE=sklearn.metrics.mean_squared_error(targetData, simbatchData)\n",
    "\tbmsimMSE=sklearn.metrics.mean_squared_error(targetData, bmsimData)\n",
    "\n",
    "\tdata = {\n",
    "\t\t\"Dataset\": [\"Sympy target\", \"Simbatch\", \"Bondmachine\"],\n",
    "\t\t\"MSE\" : [0.0, simbatchMSE, bmsimMSE]\n",
    "\t}\n",
    "\tdf = pd.DataFrame(data)\n",
    "\treturn df.style.hide(axis=\"index\")\n",
    "\n",
    "\t"
   ]
  },
  {
   "cell_type": "markdown",
   "metadata": {},
   "source": [
    "Main test loop"
   ]
  },
  {
   "cell_type": "code",
   "execution_count": null,
   "metadata": {},
   "outputs": [
    {
     "name": "stdout",
     "output_type": "stream",
     "text": [
      "Traceback (most recent call last):\n",
      "  File \u001b[35m\"flexpytester.py\"\u001b[0m, line \u001b[35m190\u001b[0m, in \u001b[35m<module>\u001b[0m\n",
      "  File \u001b[35m\"flexpytester.py\"\u001b[0m, line \u001b[35m154\u001b[0m, in \u001b[35mmain\u001b[0m\n",
      "  File \u001b[35m\"<string>\"\u001b[0m, line \u001b[35m6\u001b[0m, in \u001b[35m<module>\u001b[0m\n",
      "\u001b[1;35mNameError\u001b[0m: \u001b[35mname 'np' is not defined\u001b[0m\n",
      "[PYI-18177:ERROR] Failed to execute script 'flexpytester' due to unhandled exception!\n"
     ]
    },
    {
     "ename": "FileNotFoundError",
     "evalue": "[Errno 2] No such file or directory: 'inputs.csv'",
     "output_type": "error",
     "traceback": [
      "\u001b[31m---------------------------------------------------------------------------\u001b[39m",
      "\u001b[31mFileNotFoundError\u001b[39m                         Traceback (most recent call last)",
      "\u001b[36mCell\u001b[39m\u001b[36m \u001b[39m\u001b[32mIn[12]\u001b[39m\u001b[32m, line 3\u001b[39m\n\u001b[32m      1\u001b[39m \u001b[38;5;66;03m# for i in range(numiterations):\u001b[39;00m\n\u001b[32m      2\u001b[39m \u001b[38;5;66;03m# print (\"Iteration: \", i)\u001b[39;00m\n\u001b[32m----> \u001b[39m\u001b[32m3\u001b[39m \u001b[43mgenerate\u001b[49m\u001b[43m(\u001b[49m\u001b[43m)\u001b[49m\n\u001b[32m      4\u001b[39m simbatch()\n\u001b[32m      5\u001b[39m \u001b[38;5;66;03m# bmsim()\u001b[39;00m\n\u001b[32m      6\u001b[39m \u001b[38;5;66;03m# hlsim()\u001b[39;00m\n",
      "\u001b[36mCell\u001b[39m\u001b[36m \u001b[39m\u001b[32mIn[7]\u001b[39m\u001b[32m, line 4\u001b[39m, in \u001b[36mgenerate\u001b[39m\u001b[34m()\u001b[39m\n\u001b[32m      2\u001b[39m get_ipython().system(\u001b[33m'\u001b[39m\u001b[33m flexpytester --generate -e symbols -s generated.py -i inputs.csv -o outputs.csv > /dev/null\u001b[39m\u001b[33m'\u001b[39m)\n\u001b[32m      3\u001b[39m get_ipython().system(\u001b[33m'\u001b[39m\u001b[33m make show > /dev/null\u001b[39m\u001b[33m'\u001b[39m)\n\u001b[32m----> \u001b[39m\u001b[32m4\u001b[39m \u001b[43mcsv2sequence\u001b[49m\u001b[43m(\u001b[49m\u001b[33;43m'\u001b[39;49m\u001b[33;43minputs.csv\u001b[39;49m\u001b[33;43m'\u001b[39;49m\u001b[43m,\u001b[49m\u001b[33;43m'\u001b[39;49m\u001b[33;43minputs.seq\u001b[39;49m\u001b[33;43m'\u001b[39;49m\u001b[43m,\u001b[49m\u001b[33;43m\"\u001b[39;49m\u001b[33;43m0f\u001b[39;49m\u001b[33;43m\"\u001b[39;49m\u001b[43m)\u001b[49m\n\u001b[32m      5\u001b[39m csv2sequence(\u001b[33m'\u001b[39m\u001b[33moutputs.csv\u001b[39m\u001b[33m'\u001b[39m,\u001b[33m'\u001b[39m\u001b[33moutputs.seq\u001b[39m\u001b[33m'\u001b[39m,\u001b[33m\"\u001b[39m\u001b[33m0f\u001b[39m\u001b[33m\"\u001b[39m)\n",
      "\u001b[36mCell\u001b[39m\u001b[36m \u001b[39m\u001b[32mIn[6]\u001b[39m\u001b[32m, line 2\u001b[39m, in \u001b[36mcsv2sequence\u001b[39m\u001b[34m(csvFile, seqFile, pref)\u001b[39m\n\u001b[32m      1\u001b[39m \u001b[38;5;28;01mdef\u001b[39;00m\u001b[38;5;250m \u001b[39m\u001b[34mcsv2sequence\u001b[39m(csvFile,seqFile,pref):\n\u001b[32m----> \u001b[39m\u001b[32m2\u001b[39m \t\u001b[38;5;28;01mwith\u001b[39;00m \u001b[38;5;28;43mopen\u001b[39;49m\u001b[43m(\u001b[49m\u001b[43mcsvFile\u001b[49m\u001b[43m,\u001b[49m\u001b[43m \u001b[49m\u001b[33;43m'\u001b[39;49m\u001b[33;43mr\u001b[39;49m\u001b[33;43m'\u001b[39;49m\u001b[43m)\u001b[49m \u001b[38;5;28;01mas\u001b[39;00m f:\n\u001b[32m      3\u001b[39m \t\tlines = f.readlines()\n\u001b[32m      4\u001b[39m \t\t\u001b[38;5;28;01mwith\u001b[39;00m \u001b[38;5;28mopen\u001b[39m(seqFile, \u001b[33m'\u001b[39m\u001b[33mw\u001b[39m\u001b[33m'\u001b[39m) \u001b[38;5;28;01mas\u001b[39;00m g:\n",
      "\u001b[36mFile \u001b[39m\u001b[32m/tools/Conda/envs/ml/lib/python3.13/site-packages/IPython/core/interactiveshell.py:325\u001b[39m, in \u001b[36m_modified_open\u001b[39m\u001b[34m(file, *args, **kwargs)\u001b[39m\n\u001b[32m    318\u001b[39m \u001b[38;5;28;01mif\u001b[39;00m file \u001b[38;5;129;01min\u001b[39;00m {\u001b[32m0\u001b[39m, \u001b[32m1\u001b[39m, \u001b[32m2\u001b[39m}:\n\u001b[32m    319\u001b[39m     \u001b[38;5;28;01mraise\u001b[39;00m \u001b[38;5;167;01mValueError\u001b[39;00m(\n\u001b[32m    320\u001b[39m         \u001b[33mf\u001b[39m\u001b[33m\"\u001b[39m\u001b[33mIPython won\u001b[39m\u001b[33m'\u001b[39m\u001b[33mt let you open fd=\u001b[39m\u001b[38;5;132;01m{\u001b[39;00mfile\u001b[38;5;132;01m}\u001b[39;00m\u001b[33m by default \u001b[39m\u001b[33m\"\u001b[39m\n\u001b[32m    321\u001b[39m         \u001b[33m\"\u001b[39m\u001b[33mas it is likely to crash IPython. If you know what you are doing, \u001b[39m\u001b[33m\"\u001b[39m\n\u001b[32m    322\u001b[39m         \u001b[33m\"\u001b[39m\u001b[33myou can use builtins\u001b[39m\u001b[33m'\u001b[39m\u001b[33m open.\u001b[39m\u001b[33m\"\u001b[39m\n\u001b[32m    323\u001b[39m     )\n\u001b[32m--> \u001b[39m\u001b[32m325\u001b[39m \u001b[38;5;28;01mreturn\u001b[39;00m \u001b[43mio_open\u001b[49m\u001b[43m(\u001b[49m\u001b[43mfile\u001b[49m\u001b[43m,\u001b[49m\u001b[43m \u001b[49m\u001b[43m*\u001b[49m\u001b[43margs\u001b[49m\u001b[43m,\u001b[49m\u001b[43m \u001b[49m\u001b[43m*\u001b[49m\u001b[43m*\u001b[49m\u001b[43mkwargs\u001b[49m\u001b[43m)\u001b[49m\n",
      "\u001b[31mFileNotFoundError\u001b[39m: [Errno 2] No such file or directory: 'inputs.csv'"
     ]
    }
   ],
   "source": [
    "# for i in range(numiterations):\n",
    "# print (\"Iteration: \", i)\n",
    "generate()\n",
    "simbatch()\n",
    "# bmsim()\n",
    "# hlsim()\n",
    "analyze()\n",
    "# display.Image(\"bondmachine.png\")"
   ]
  }
 ],
 "metadata": {
  "kernelspec": {
   "display_name": "ml",
   "language": "python",
   "name": "python3"
  },
  "language_info": {
   "codemirror_mode": {
    "name": "ipython",
    "version": 3
   },
   "file_extension": ".py",
   "mimetype": "text/x-python",
   "name": "python",
   "nbconvert_exporter": "python",
   "pygments_lexer": "ipython3",
   "version": "3.13.2"
  }
 },
 "nbformat": 4,
 "nbformat_minor": 2
}
